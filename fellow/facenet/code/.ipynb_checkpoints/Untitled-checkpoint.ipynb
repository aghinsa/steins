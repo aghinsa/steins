{
 "cells": [
  {
   "cell_type": "code",
   "execution_count": 1,
   "metadata": {},
   "outputs": [
    {
     "name": "stderr",
     "output_type": "stream",
     "text": [
      "/home/aghinsa/anaconda3/lib/python3.6/site-packages/h5py/__init__.py:36: FutureWarning: Conversion of the second argument of issubdtype from `float` to `np.floating` is deprecated. In future, it will be treated as `np.float64 == np.dtype(float).type`.\n",
      "  from ._conv import register_converters as _register_converters\n"
     ]
    }
   ],
   "source": [
    "import numpy as np\n",
    "import tensorflow as tf\n",
    "from dummy_test import get"
   ]
  },
  {
   "cell_type": "code",
   "execution_count": 52,
   "metadata": {},
   "outputs": [
    {
     "name": "stdout",
     "output_type": "stream",
     "text": [
      "(39, 128)\n",
      "(39, 1)\n"
     ]
    }
   ],
   "source": [
    "parent=\"/home/aghinsa/Documents/insti/fellow/datasets/lfw\"\n",
    "x,y=get(parent)\n",
    "x=x.astype(np.float32)\n",
    "y=y.astype(np.float32)\n",
    "size=128\n",
    "print(x.shape)\n",
    "print(y.shape)"
   ]
  },
  {
   "cell_type": "code",
   "execution_count": 18,
   "metadata": {},
   "outputs": [
    {
     "name": "stdout",
     "output_type": "stream",
     "text": [
      "float32\n"
     ]
    }
   ],
   "source": [
    "print(x[0][0].dtype)"
   ]
  },
  {
   "cell_type": "code",
   "execution_count": 34,
   "metadata": {},
   "outputs": [],
   "source": [
    "from sklearn.metrics.pairwise import euclidean_distances"
   ]
  },
  {
   "cell_type": "code",
   "execution_count": 44,
   "metadata": {},
   "outputs": [],
   "source": [
    "def distance_mat(vecs):\n",
    "    \"\"\"\n",
    "    input:vecs (batch,size)\n",
    "    return:(batch,batch)\n",
    "        (i,j) in distances gives ||a-b||^2\n",
    "    \"\"\"\n",
    "    distances=euclidean_distances(vecs,vecs,squared=True)\n",
    "    return distances"
   ]
  },
  {
   "cell_type": "code",
   "execution_count": 47,
   "metadata": {},
   "outputs": [],
   "source": [
    "distance=distance_mat(x)"
   ]
  },
  {
   "cell_type": "code",
   "execution_count": 73,
   "metadata": {},
   "outputs": [],
   "source": [
    "def _positive_mask(labels):\n",
    "    \"\"\"\n",
    "    labels:(b,1)\n",
    "    return :mask(b,b) type:bool\n",
    "         if i!=j and l[i]==l[j] mask =1\n",
    "    \"\"\"\n",
    "    labels=labels.reshape(-1)\n",
    "    batch_size=tf.shape(labels)[0]\n",
    "    ii=tf.cast(tf.eye(batch_size),bool)\n",
    "    ij=tf.logical_not(ii)\n",
    "    \n",
    "    #finding (b,b) with labels same\n",
    "    labels_same=tf.equal(tf.expand_dims(labels,0),tf.expand_dims(labels,1))\n",
    "    #if i!=j and l[i]==l[j] mask =1\n",
    "    mask=tf.logical_and(labels_same,ij)\n",
    "    return mask"
   ]
  },
  {
   "cell_type": "code",
   "execution_count": 74,
   "metadata": {},
   "outputs": [
    {
     "data": {
      "text/plain": [
       "TensorShape([Dimension(39), Dimension(39)])"
      ]
     },
     "execution_count": 74,
     "metadata": {},
     "output_type": "execute_result"
    }
   ],
   "source": [
    "p_mask=_positive_mask(y)\n",
    "p_mask.shape"
   ]
  },
  {
   "cell_type": "code",
   "execution_count": 75,
   "metadata": {},
   "outputs": [],
   "source": [
    "def _negative_mask(labels):\n",
    "    \"\"\"\n",
    "    labels=(b,1)\n",
    "    return :mask(b,b) type:bool\n",
    "         if i!=j and l[i]!=l[j] mask =1\n",
    "    \"\"\"\n",
    "    labels=labels.reshape(-1)\n",
    "    mask=tf.equal(tf.expand_dims(labels,0),tf.expand_dims(labels,1))\n",
    "    mask=tf.logical_not(mask)\n",
    "    return mask"
   ]
  },
  {
   "cell_type": "code",
   "execution_count": 78,
   "metadata": {},
   "outputs": [
    {
     "data": {
      "text/plain": [
       "TensorShape([Dimension(39), Dimension(39), Dimension(1)])"
      ]
     },
     "execution_count": 78,
     "metadata": {},
     "output_type": "execute_result"
    }
   ],
   "source": [
    "n_mask=_negative_mask(y)\n",
    "n_mask.shape"
   ]
  },
  {
   "cell_type": "code",
   "execution_count": 6,
   "metadata": {},
   "outputs": [],
   "source": [
    "def hard_k_negatives_postives(vecs,labels,k=1):\n",
    "    \"\"\"\n",
    "    k=number of minimums/maximums to keep\n",
    "    \"\"\"\n",
    "    distances=distance_mat(vecs)\n",
    "    max_in_row=tf.reduce_max(distances,axis=1,keepDims=True)\n",
    "    n_mask=_negative_mask(labels)\n",
    "    #adding max to eac non valid to take min later\n",
    "    distances_mod=distances*tf.to_float(tf.logical_not(n_mask))\n",
    "    distances_mod=distances_mod+max_in_row*tf.to_float(tf.logical_not(n_mask))\n",
    "    #hard_mins=tf.reduce_min(distances_mod,axis=1,keepDims=True)\n",
    "    min_vals,_=tf.math.top_k(-distances_mod,k=k)\n",
    "    hard_k_negativess=-min_vals\n",
    "    ####################################\n",
    "    \n",
    "    p_mask=_positive_mask(labels)\n",
    "    distances_mod=distances*tf.to_float(p_mask)\n",
    "    hard_k_positives,_=tf.math.top_k(distances_mod,k=k )\n",
    "    \n",
    "    return hard_k_negatives,hard_k_positives"
   ]
  },
  {
   "cell_type": "code",
   "execution_count": 7,
   "metadata": {},
   "outputs": [],
   "source": [
    "def hard_triplet_loss(vecs,labels,margin,k=1):\n",
    "    hard_k_negatives,hard_k_positives=hard_k_negatives_postives(vecs,labels,k)\n",
    "    #(batch,k)\n",
    "    loss=0\n",
    "    #loss=max(hp-hn+margin,0)\n",
    "    for i in range(k):\n",
    "        p=[i%k,(i+1)%k,(i+2)%k]\n",
    "        l=len(p)\n",
    "        perm=np.zeros(shape=(l,l))\n",
    "        perm[np.arange(l),p]=1\n",
    "        perm=tf.cast(perm,dtype=hard_k_negatives.dtype)\n",
    "        to_sub=tf.matmul(hard_k_negatives,perm)\n",
    "        \n",
    "        temp=tf.maximum(hard_k_positives-to_sub+margin,0)\n",
    "        temp=tf.reduce_sum(temp,axis=1)\n",
    "        loss=loss+tf.reduce_mean(temp)\n",
    "    return loss"
   ]
  },
  {
   "cell_type": "code",
   "execution_count": null,
   "metadata": {},
   "outputs": [],
   "source": []
  }
 ],
 "metadata": {
  "kernelspec": {
   "display_name": "Python 3",
   "language": "python",
   "name": "python3"
  },
  "language_info": {
   "codemirror_mode": {
    "name": "ipython",
    "version": 3
   },
   "file_extension": ".py",
   "mimetype": "text/x-python",
   "name": "python",
   "nbconvert_exporter": "python",
   "pygments_lexer": "ipython3",
   "version": "3.6.5"
  }
 },
 "nbformat": 4,
 "nbformat_minor": 2
}
