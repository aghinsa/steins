{
 "cells": [
  {
   "cell_type": "code",
   "execution_count": null,
   "metadata": {},
   "outputs": [],
   "source": [
    "import tensorflow as tf\n",
    "import numpy as np\n",
    "import os\n",
    "import cv2"
   ]
  },
  {
   "cell_type": "code",
   "execution_count": null,
   "metadata": {},
   "outputs": [],
   "source": [
    "import config\n",
    "config.init()"
   ]
  },
  {
   "cell_type": "code",
   "execution_count": null,
   "metadata": {},
   "outputs": [],
   "source": [
    "import model\n",
    "import loss\n",
    "import data_list\n",
    "import config\n",
    "import importlib"
   ]
  },
  {
   "cell_type": "code",
   "execution_count": null,
   "metadata": {},
   "outputs": [],
   "source": [
    "importlib.reload(loss)\n",
    "importlib.reload(data_list)\n",
    "importlib.reload(model)\n",
    "importlib.reload(config)\n",
    "\n",
    "\n",
    "name_list_path=os.path.abspath('./')\n",
    "name_list_path=os.path.join(name_list_path,'data_char','list.txt')\n",
    "name_list=data_list.file_to_list(name_list_path)\n",
    "\n",
    "main_dir=config.main_dir\n",
    "training_iter=config.training_iter\n",
    "batch_size=config.batch_size\n",
    "learning_rate=config.learning_rate\n",
    "\n"
   ]
  },
  {
   "cell_type": "code",
   "execution_count": null,
   "metadata": {},
   "outputs": [],
   "source": [
    "images=tf.placeholder(\"float\",shape=[None,256,256,2])\n",
    "truth=tf.placeholder(\"float\",shape=[None,256,256,5])\n",
    "\n",
    "pred=model.encoderNdecoder(images)\n",
    "cost=loss.total_loss(pred,truth)\n",
    "optimizer=tf.train.AdamOptimizer(learning_rate=learning_rate).minimize(cost)\n",
    "init=tf.global_variables_initializer()\n",
    "\n",
    "with tf.Session() as sess:\n",
    "    sess.run(init)\n",
    "    for i in range(training_iter):\n",
    "        for batch in range(len(name_list)//batch_size):\n",
    "            batch_list=name_list[batch*batch_size:min((batch+1)*batch_size,len(name_list))]\n",
    "            batch_x=list(map(data_list.get_subject_source,batch_list))\n",
    "            batch_y=list(map(data_list.get_subject_target,batch_list))\n",
    "            opt=sess.run(optimizer,feed_dict={images:batch_x,truth:batch_y})\n",
    "            loss=sess.run(cost,feed_dict={images:batch_x,truth:batch_y})\n",
    "        print(\"iter \"+str(i)+\" loss ={:.6f}\".format(loss))"
   ]
  },
  {
   "cell_type": "code",
   "execution_count": null,
   "metadata": {},
   "outputs": [],
   "source": []
  }
 ],
 "metadata": {
  "kernelspec": {
   "display_name": "Python 3",
   "language": "python",
   "name": "python3"
  },
  "language_info": {
   "codemirror_mode": {
    "name": "ipython",
    "version": 3
   },
   "file_extension": ".py",
   "mimetype": "text/x-python",
   "name": "python",
   "nbconvert_exporter": "python",
   "pygments_lexer": "ipython3",
   "version": "3.6.5"
  }
 },
 "nbformat": 4,
 "nbformat_minor": 2
}
